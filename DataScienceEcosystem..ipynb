{
 "cells": [
  {
   "cell_type": "markdown",
   "id": "6be87834-3945-4e54-a245-03dfe0a293f3",
   "metadata": {},
   "source": [
    "# Data Science Tools and Ecosystem\n"
   ]
  },
  {
   "cell_type": "markdown",
   "id": "a23ff2df-8f3d-48a4-abea-04405d5b0194",
   "metadata": {},
   "source": [
    "In this notebook, Data Science Tools and Ecosystem are summarized."
   ]
  },
  {
   "cell_type": "markdown",
   "id": "95df91c2-2a1d-4a08-8501-d79f8a3b47f3",
   "metadata": {},
   "source": [
    "**Objectives:**\n",
    "- list of popular languages for data science\n",
    "- list of data science tools\n",
    "- examples of arithmetic expression in Python"
   ]
  },
  {
   "cell_type": "markdown",
   "id": "6e026251-8288-4b5d-9354-df0ef6eb0f54",
   "metadata": {
    "tags": []
   },
   "source": [
    "Some of the popular languages that Data Scientists use are:\n",
    "1. Python\n",
    "2. R\n",
    "3. Scala\n"
   ]
  },
  {
   "cell_type": "markdown",
   "id": "8c2edd1a-780c-4afc-b433-f724159014ba",
   "metadata": {},
   "source": [
    "Some of the commonly used libraries used by Data Scientists include:\n",
    "1. Scikitlearn\n",
    "2. TensorFlow\n",
    "3. NLTK\n"
   ]
  },
  {
   "cell_type": "markdown",
   "id": "a80834cf-3ad7-4cfc-b388-c71cb8777131",
   "metadata": {
    "tags": []
   },
   "source": [
    "|Data Science Tools|\n",
    "|------------------| \n",
    "|Pandas            |\n",
    "|Numpy             |\n",
    "|Matplotlib        |\n",
    "\n",
    "    "
   ]
  },
  {
   "cell_type": "markdown",
   "id": "8ac6d534-3d44-42e8-98f3-30d60f46531b",
   "metadata": {},
   "source": [
    "### Below are a few examples of evaluating arithmetic expressions in Python"
   ]
  },
  {
   "cell_type": "code",
   "execution_count": 3,
   "id": "7572618d-f2f2-44f9-ab40-e74b28908ba7",
   "metadata": {
    "tags": []
   },
   "outputs": [
    {
     "data": {
      "text/plain": [
       "17"
      ]
     },
     "execution_count": 3,
     "metadata": {},
     "output_type": "execute_result"
    }
   ],
   "source": [
    "#This a simple arithmetic expression to mutiply then add integers.\n",
    "(3*4)+5"
   ]
  },
  {
   "cell_type": "code",
   "execution_count": 6,
   "id": "811ac1c3-5845-4539-852d-ab9602ca0077",
   "metadata": {
    "tags": []
   },
   "outputs": [
    {
     "name": "stdout",
     "output_type": "stream",
     "text": [
      "3.3333333333333335\n"
     ]
    }
   ],
   "source": [
    "# This will convert 200 minutes to hours by diving by 60\n",
    "min = 200\n",
    "h = min/60\n",
    "print(h)"
   ]
  },
  {
   "cell_type": "markdown",
   "id": "5163b2b5-2d96-4477-b5d1-47235c1d6790",
   "metadata": {},
   "source": [
    "## Author\n",
    "Youssef Oualmakran"
   ]
  },
  {
   "cell_type": "code",
   "execution_count": null,
   "id": "82d30d35-1c48-41d7-b9df-85f92ce92b11",
   "metadata": {},
   "outputs": [],
   "source": []
  },
  {
   "cell_type": "code",
   "execution_count": null,
   "id": "33463977-9ae8-4a94-9f11-32f640f6a345",
   "metadata": {},
   "outputs": [],
   "source": []
  },
  {
   "cell_type": "code",
   "execution_count": null,
   "id": "0b3add4a-aa53-4199-8ac0-3efddc3afc00",
   "metadata": {},
   "outputs": [],
   "source": []
  },
  {
   "cell_type": "code",
   "execution_count": null,
   "id": "05293aab-828f-4655-a90c-39f400725291",
   "metadata": {},
   "outputs": [],
   "source": []
  }
 ],
 "metadata": {
  "kernelspec": {
   "display_name": "Python",
   "language": "python",
   "name": "conda-env-python-py"
  },
  "language_info": {
   "codemirror_mode": {
    "name": "ipython",
    "version": 3
   },
   "file_extension": ".py",
   "mimetype": "text/x-python",
   "name": "python",
   "nbconvert_exporter": "python",
   "pygments_lexer": "ipython3",
   "version": "3.7.12"
  }
 },
 "nbformat": 4,
 "nbformat_minor": 5
}
